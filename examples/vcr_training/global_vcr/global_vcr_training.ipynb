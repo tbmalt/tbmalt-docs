{
 "cells": [
  {
   "cell_type": "markdown",
   "id": "eaaa7c44-6469-44c4-b1bd-e1a3d2a05e7b",
   "metadata": {},
   "source": [
    "## 1. Settings"
   ]
  },
  {
   "cell_type": "markdown",
   "id": "7ad108e2-45c0-4baf-91de-3685c67586b0",
   "metadata": {},
   "source": [
    "## 1.1 Setting up the environment"
   ]
  },
  {
   "cell_type": "code",
   "execution_count": null,
   "id": "8aa3e74b-eea5-46a2-8d1b-77e5b2bb6202",
   "metadata": {},
   "outputs": [],
   "source": [
    "import torch\n",
    "import h5py\n",
    "\n",
    "from tbmalt import Geometry, OrbitalInfo\n",
    "from tbmalt.ml.module import Calculator\n",
    "from tbmalt.physics.dftb import Dftb2\n",
    "from tbmalt.physics.dftb.feeds import SkFeed, VcrSkFeed, SkfOccupationFeed, HubbardFeed\n",
    "from tbmalt.io.dataset import DataSetIM\n",
    "\n",
    "from ase.build import molecule\n",
    "\n",
    "Tensor = torch.Tensor\n",
    "\n",
    "# This must be set until typecasting from HDF5 databases has been implemented.\n",
    "torch.set_default_dtype(torch.float64)"
   ]
  },
  {
   "cell_type": "markdown",
   "id": "97b0bd60-6eac-47b9-baca-e3475749eed7",
   "metadata": {},
   "source": [
    "## 1.2 Setting up the molecular systems for training"
   ]
  },
  {
   "cell_type": "code",
   "execution_count": null,
   "id": "f2a07109-5bfe-4862-bc8f-1c62f6bf11e3",
   "metadata": {},
   "outputs": [],
   "source": [
    "# Provide a list of molecules for training\n",
    "molecule_names = ['CH4', 'H2O']\n",
    "\n",
    "# Reference of target properties\n",
    "targets = {'q_final_atomic': torch.tensor(\n",
    "    [[4.251914, 0.937022, 0.937022, 0.937022, 0.937022],\n",
    "     [6.526248, 0.736876, 0.736876, 0, 0]])}\n",
    "\n",
    "# Provide information about the orbitals on each atom; this is keyed by atomic\n",
    "# numbers and valued by azimuthal quantum numbers like so:\n",
    "#   {Z₁: [ℓᵢ, ℓⱼ, ..., ℓₙ], Z₂: [ℓᵢ, ℓⱼ, ..., ℓₙ], ...}\n",
    "shell_dict = {1: [0], 6: [0, 1], 8: [0, 1]}"
   ]
  },
  {
   "cell_type": "markdown",
   "id": "b42b0f4c-ce02-4e75-8243-5ed239e6487a",
   "metadata": {},
   "source": [
    "## 1.3 Setting up the model for training"
   ]
  },
  {
   "cell_type": "code",
   "execution_count": null,
   "id": "f8993071-1bee-41e6-8f67-4517b95fea87",
   "metadata": {},
   "outputs": [],
   "source": [
    "# Before running this example, please use setup.ipynb to download the parameter set needed\n",
    "# Location at which the DFTB parameter set database is located\n",
    "parameter_db_path = '../../data/data/example_dftb_vcr.h5'\n",
    "parameter_db_path_std = '../../data/example_dftb_parameters.h5'\n",
    "\n",
    "# Number of fitting cycles, number of batch size each cycle\n",
    "number_of_epochs = 50\n",
    "lr = 0.01\n",
    "onsite_lr = 1e-3\n",
    "criterion = torch.nn.MSELoss(reduction='mean')\n",
    "tolerance = 1e-6  # tolerance of loss\n",
    "shell_resolved = False  # If DFTB Hubbard U is shell resolved"
   ]
  },
  {
   "cell_type": "markdown",
   "id": "a2a5043c-0e60-4b75-beda-2916f76895b7",
   "metadata": {},
   "source": [
    "## 1.4 Setting up the DFTB calculator"
   ]
  },
  {
   "cell_type": "markdown",
   "id": "66e0f3e8-d113-4b29-91f8-2b96e5ea755e",
   "metadata": {},
   "source": [
    "## 1.4.1 Input the molecular systems"
   ]
  },
  {
   "cell_type": "code",
   "execution_count": null,
   "id": "7d90b0f6-cfaf-49b3-9157-93f922f9d62e",
   "metadata": {},
   "outputs": [],
   "source": [
    "# Construct the `Geometry` and `OrbitalInfo` objects. The former is analogous\n",
    "# to the ase.Atoms object while the latter provides information about what\n",
    "# orbitals are present and which atoms they belong to.\n",
    "geometry = Geometry.from_ase_atoms(list(map(molecule, molecule_names)))\n",
    "orbs = OrbitalInfo(geometry.atomic_numbers, shell_dict, shell_resolved=False)\n",
    "\n",
    "# Identify which species are present\n",
    "species = torch.unique(geometry.atomic_numbers)\n",
    "# Strip out padding species and convert to a standard list.\n",
    "species = species[species != 0].tolist()"
   ]
  },
  {
   "cell_type": "markdown",
   "id": "8294a6b7-15a1-4e7f-9b57-e36058fb3a99",
   "metadata": {},
   "source": [
    "## 1.4.2 Loading of the DFTB parameters into their associated feed objects"
   ]
  },
  {
   "cell_type": "code",
   "execution_count": null,
   "id": "c36dcf04-796c-4bb8-8346-8218ba721371",
   "metadata": {},
   "outputs": [],
   "source": [
    "# Load the Hamiltonian feed model\n",
    "h_feed = VcrSkFeed.from_database(parameter_db_path, species, 'hamiltonian',\n",
    "                                 requires_grad_onsite=False)\n",
    "h_feed_std = SkFeed.from_database(\n",
    "    parameter_db_path_std, species, 'hamiltonian')\n",
    "\n",
    "# Load the overlap feed model\n",
    "s_feed = VcrSkFeed.from_database(parameter_db_path, species, 'overlap')\n",
    "s_feed_std = SkFeed.from_database(\n",
    "    parameter_db_path_std, species, 'overlap')\n",
    "\n",
    "# Load the occupation feed object\n",
    "o_feed = SkfOccupationFeed.from_database(parameter_db_path, species)\n",
    "o_feed_std = SkfOccupationFeed.from_database(parameter_db_path_std, species)\n",
    "\n",
    "# Load the Hubbard-U feed object\n",
    "u_feed = HubbardFeed.from_database(parameter_db_path, species)\n",
    "u_feed_std = HubbardFeed.from_database(parameter_db_path_std, species)"
   ]
  },
  {
   "cell_type": "markdown",
   "id": "9a6751c6-a5b6-40e3-ab39-d5ae90b7d3f1",
   "metadata": {},
   "source": [
    "## 1.4.3 Constructing the SCC-DFTB calculator"
   ]
  },
  {
   "cell_type": "code",
   "execution_count": null,
   "id": "569aa61b-8661-4725-a0f5-d6b665517247",
   "metadata": {},
   "outputs": [],
   "source": [
    "dftb_calculator_init = Dftb2(h_feed, s_feed, o_feed, u_feed,\n",
    "                             filling_temp=None, filling_scheme=None)\n",
    "dftb_calculator_init_std = Dftb2(h_feed_std, s_feed_std, o_feed_std, u_feed_std,\n",
    "                                 filling_temp=None, filling_scheme=None)"
   ]
  },
  {
   "cell_type": "markdown",
   "id": "32fadff4-9797-428d-90fc-e63d1c15e9c8",
   "metadata": {},
   "source": [
    "## 1.4.4 Constructing machine learning object"
   ]
  },
  {
   "cell_type": "code",
   "execution_count": null,
   "id": "518e2cc6-dea3-411a-a05c-5462138ca1f6",
   "metadata": {},
   "outputs": [],
   "source": [
    "def build_optim(dftb_calculator):\n",
    "    \"\"\"Build optimizer for VCR training.\"\"\"\n",
    "    # For global compression radii, optimize each atom specie parameters\n",
    "    comp_r0 = torch.nn.parameter.Parameter(torch.tensor([3.0, 2.7, 2.3]))\n",
    "\n",
    "    ml_onsite, onsite_dict = [], {}\n",
    "\n",
    "    for key, val in dftb_calculator.h_feed._on_sites.items():\n",
    "        for l in shell_dict[int(key)]:\n",
    "            onsite_dict.update({(key, l): val[int(l ** 2)].detach().clone()})\n",
    "            ml_onsite.append({'params': onsite_dict[(key, l)].requires_grad_(), 'lr': onsite_lr})\n",
    "\n",
    "    optimizer = torch.optim.Adam([{'params': comp_r0, 'lr': lr}]\n",
    "                                 + ml_onsite, lr=lr)\n",
    "\n",
    "    return comp_r0, onsite_dict, optimizer"
   ]
  },
  {
   "cell_type": "markdown",
   "id": "edad8b32-79cf-4b24-a6a0-3f94229ad113",
   "metadata": {},
   "source": [
    "## 2. Model training"
   ]
  },
  {
   "cell_type": "code",
   "execution_count": null,
   "id": "05c72454-e1f5-4a63-a594-40ee9ed30084",
   "metadata": {},
   "outputs": [],
   "source": [
    "def calculate_losses(calculator: Calculator, targets) -> Tensor:\n",
    "    \"\"\"An example function computing the loss of the model.\n",
    "\n",
    "    Args:\n",
    "        calculator: calculator object via which target properties can be\n",
    "            calculated.\n",
    "        targets: target data to which the model should be fitted.\n",
    "\n",
    "    Returns:\n",
    "        loss: the computed loss.\n",
    "\n",
    "    \"\"\"\n",
    "    loss = 0.0\n",
    "\n",
    "    loss += criterion(calculator.q_final_atomic, targets['q_final_atomic'])\n",
    "\n",
    "    return loss"
   ]
  },
  {
   "cell_type": "code",
   "execution_count": null,
   "id": "c22be94a-41dd-4323-b458-593b8e2c9328",
   "metadata": {},
   "outputs": [],
   "source": [
    "# Execution\n",
    "comp_r, onsite_dict, optimizer = build_optim(dftb_calculator_init)\n",
    "comp_r0 = torch.clone(comp_r)\n",
    "loss_old = 0\n",
    "for epoch in range(number_of_epochs):\n",
    "    orbs = OrbitalInfo(geometry.atomic_numbers, shell_dict,\n",
    "                       shell_resolved=shell_resolved)\n",
    "\n",
    "    this_cr = torch.ones(geometry.atomic_numbers.shape)\n",
    "    for ii, iatm in enumerate(geometry.unique_atomic_numbers()):\n",
    "        this_cr[iatm == geometry.atomic_numbers] = comp_r[ii]\n",
    "\n",
    "    if not shell_resolved:\n",
    "        for iatm in geometry.unique_atomic_numbers().tolist():\n",
    "            for l in shell_dict[iatm]:\n",
    "                for idx in torch.arange(2 * l + 1) + l:\n",
    "                    dftb_calculator_init.h_feed._on_sites[str(iatm)][idx] = onsite_dict[(str(iatm), l)]\n",
    "\n",
    "    # Perform the forwards operation\n",
    "    dftb_calculator_init.h_feed.compression_radii = this_cr\n",
    "    dftb_calculator_init.s_feed.compression_radii = this_cr\n",
    "    dftb_calculator_init(geometry, orbs, grad_mode=\"direct\")\n",
    "\n",
    "    # Calculate the loss\n",
    "    loss = calculate_losses(dftb_calculator_init, targets)\n",
    "    optimizer.zero_grad()\n",
    "    loss.retain_grad()\n",
    "    print(epoch, loss)\n",
    "\n",
    "    # Invoke the autograd engine\n",
    "    loss.backward(retain_graph=True)\n",
    "    optimizer.step()\n",
    "    if torch.abs(loss_old - loss.detach()).lt(tolerance):\n",
    "        break\n",
    "    loss_old = loss.detach().clone()\n",
    "\n",
    "    this_cr = this_cr.detach().clone()\n",
    "    min_mask = this_cr[this_cr != 0].lt(1.75)\n",
    "    max_mask = this_cr[this_cr != 0].gt(9.5)\n",
    "\n",
    "    # To make sure compression radii inside reasonable range\n",
    "    if min_mask.any():\n",
    "        with torch.no_grad():\n",
    "            comp_r.clamp_(min=2.0)\n",
    "    if max_mask.any():\n",
    "        with torch.no_grad():\n",
    "            comp_r.clamp_(max=9.0)\n",
    "            \n",
    "dftb_calculator_init.h_feed.compression_radii = comp_r\n",
    "        \n",
    "print(\"\\nInitial compression radius of H:\", comp_r0[0].detach(), \"Optimized compression radius of H:\", comp_r[0].detach())\n",
    "print(\"Initial compression radius of C:\", comp_r0[1].detach(), \"Optimized compression radius of C:\", comp_r[1].detach())\n",
    "print(\"Initial compression radius of O:\", comp_r0[2].detach(), \"Optimized compression radius of O:\", comp_r[2].detach())\n",
    "print(\"Initial onsite energy of H:\", dftb_calculator_init_std.h_feed._on_sites[\"1\"].data, \"Optimized onsite energy of H:\", dftb_calculator_init.h_feed._on_sites[\"1\"].data)\n",
    "print(\"Initial onsite energy of C:\", dftb_calculator_init_std.h_feed._on_sites[\"6\"].data, \"Optimized onsite energy of C:\", dftb_calculator_init.h_feed._on_sites[\"6\"].data)\n",
    "print(\"Initial onsite energy of O:\", dftb_calculator_init_std.h_feed._on_sites[\"8\"].data, \"Optimized onsite energy of O:\", dftb_calculator_init.h_feed._on_sites[\"8\"].data)"
   ]
  },
  {
   "cell_type": "code",
   "execution_count": null,
   "id": "640d79de-a177-4680-8df9-c6b81b9781bc",
   "metadata": {},
   "outputs": [],
   "source": []
  }
 ],
 "metadata": {
  "kernelspec": {
   "display_name": "Python 3 (ipykernel)",
   "language": "python",
   "name": "python3"
  },
  "language_info": {
   "codemirror_mode": {
    "name": "ipython",
    "version": 3
   },
   "file_extension": ".py",
   "mimetype": "text/x-python",
   "name": "python",
   "nbconvert_exporter": "python",
   "pygments_lexer": "ipython3",
   "version": "3.9.13"
  }
 },
 "nbformat": 4,
 "nbformat_minor": 5
}
