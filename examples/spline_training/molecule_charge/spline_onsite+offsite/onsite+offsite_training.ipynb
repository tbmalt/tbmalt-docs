{
 "cells": [
  {
   "cell_type": "markdown",
   "id": "06acd932-80ea-437e-af32-bc1411cd4645",
   "metadata": {},
   "source": [
    "## 1. Settings"
   ]
  },
  {
   "cell_type": "markdown",
   "id": "57ad964f-d817-4eef-860d-273cb36287f7",
   "metadata": {},
   "source": [
    "## 1.1 Setting up the environment"
   ]
  },
  {
   "cell_type": "code",
   "execution_count": 1,
   "id": "86267900-77d2-4363-bf7a-074a380da001",
   "metadata": {},
   "outputs": [],
   "source": [
    "import torch\n",
    "from tbmalt import Geometry, OrbitalInfo\n",
    "from tbmalt.physics.dftb import Dftb2\n",
    "from tbmalt.physics.dftb.feeds import SkFeed, SkfOccupationFeed, HubbardFeed\n",
    "from tbmalt.common.maths.interpolation import CubicSpline\n",
    "from tbmalt.ml.loss_function import Loss, mse_loss\n",
    "\n",
    "from ase.build import molecule\n",
    "\n",
    "Tensor = torch.Tensor\n",
    "\n",
    "# This must be set until typecasting from HDF5 databases has been implemented.\n",
    "torch.set_default_dtype(torch.float64)"
   ]
  },
  {
   "cell_type": "markdown",
   "id": "c9f2c0c8-6b83-4d11-87c3-16859de2025a",
   "metadata": {},
   "source": [
    "## 1.2 Setting up the molecular systems for training"
   ]
  },
  {
   "cell_type": "code",
   "execution_count": 2,
   "id": "6547b43a-9ba4-4f29-ac07-d9761e109a72",
   "metadata": {},
   "outputs": [],
   "source": [
    "# Provide a list of moecules for training\n",
    "molecule_names = ['CH4', 'H2O']\n",
    "\n",
    "# Reference of target properties\n",
    "targets = {'q_final_atomic': torch.tensor(\n",
    "    [[4.251914, 0.937022, 0.937022, 0.937022, 0.937022],\n",
    "     [6.526248, 0.736876, 0.736876, 0, 0]])}\n",
    "\n",
    "# Provide information about the orbitals on each atom; this is keyed by atomic\n",
    "# numbers and valued by azimuthal quantum numbers like so:\n",
    "#   {Z₁: [ℓᵢ, ℓⱼ, ..., ℓₙ], Z₂: [ℓᵢ, ℓⱼ, ..., ℓₙ], ...}\n",
    "shell_dict = {1: [0], 6: [0, 1], 7: [0, 1], 8: [0, 1]}"
   ]
  },
  {
   "cell_type": "markdown",
   "id": "670b07be-0927-43a9-b6b4-c6c91d2b6265",
   "metadata": {},
   "source": [
    "## 1.3 Setting up the model for training"
   ]
  },
  {
   "cell_type": "code",
   "execution_count": 3,
   "id": "77ecc54c-f31d-4a16-a755-4e8f80a841e6",
   "metadata": {},
   "outputs": [],
   "source": [
    "# Before running this example, please use setup.ipynb to download the parameter set needed\n",
    "# Location at which the DFTB parameter set database is located\n",
    "parameter_db_path = '../../../data/example_dftb_parameters.h5'\n",
    "\n",
    "# Type of ML model\n",
    "model = 'spline'\n",
    "\n",
    "# Whether performing model fitting\n",
    "fit_model = True\n",
    "\n",
    "# Number of training cycles\n",
    "number_of_epochs = 10\n",
    "\n",
    "# Learning rate\n",
    "lr = 0.002\n",
    "\n",
    "# Loss function\n",
    "loss_func = mse_loss"
   ]
  },
  {
   "cell_type": "markdown",
   "id": "0242de04-0cd6-458b-97c4-3c0b5467970c",
   "metadata": {},
   "source": [
    "## 1.4 Setting up the DFTB calculator"
   ]
  },
  {
   "cell_type": "markdown",
   "id": "855f3ba4-b2a2-43e8-ab0f-a50f8f3dc178",
   "metadata": {},
   "source": [
    "## 1.4.1 Input the molecular systems"
   ]
  },
  {
   "cell_type": "code",
   "execution_count": 4,
   "id": "e0227393-b39f-481b-a975-af6c2192a78a",
   "metadata": {},
   "outputs": [],
   "source": [
    "# Construct the `Geometry` and `OrbitalInfo` objects. The former is analogous\n",
    "# to the ase.Atoms object while the latter provides information about what\n",
    "# orbitals are present and which atoms they belong to.\n",
    "geometry = Geometry.from_ase_atoms(list(map(molecule, molecule_names)))\n",
    "orbs = OrbitalInfo(geometry.atomic_numbers, shell_dict, shell_resolved=False)\n",
    "\n",
    "# Identify which species are present\n",
    "species = torch.unique(geometry.atomic_numbers)\n",
    "# Strip out padding species and convert to a standard list.\n",
    "species = species[species != 0].tolist()"
   ]
  },
  {
   "cell_type": "markdown",
   "id": "465e5a54-3bd9-4200-b2f0-ac4480f5b8dc",
   "metadata": {},
   "source": [
    "## 1.4.2 Loading of the DFTB parameters into their associated feed objects"
   ]
  },
  {
   "cell_type": "code",
   "execution_count": 5,
   "id": "d719b8b2-e440-4812-9f37-5f7680e568be",
   "metadata": {},
   "outputs": [],
   "source": [
    "# Load the Hamiltonian feed model\n",
    "h_feed = SkFeed.from_database(parameter_db_path, species, 'hamiltonian',\n",
    "                              interpolation=CubicSpline, requires_grad_onsite=True,\n",
    "                              requires_grad_offsite=True)\n",
    "\n",
    "# Load the overlap feed model\n",
    "s_feed = SkFeed.from_database(parameter_db_path, species, 'overlap',\n",
    "                              interpolation=CubicSpline, requires_grad_onsite=True,\n",
    "                              requires_grad_offsite=True)\n",
    "\n",
    "# Load the occupation feed object\n",
    "o_feed = SkfOccupationFeed.from_database(parameter_db_path, species)\n",
    "\n",
    "# Load the Hubbard-U feed object\n",
    "u_feed = HubbardFeed.from_database(parameter_db_path, species)"
   ]
  },
  {
   "cell_type": "markdown",
   "id": "162de736-e9e9-4cfb-ab43-96fd7ed9a89b",
   "metadata": {},
   "source": [
    "## 1.4.3 Constructing the SCC-DFTB calculator"
   ]
  },
  {
   "cell_type": "code",
   "execution_count": 6,
   "id": "9fd11853-8918-4146-b16f-becb5bff54c3",
   "metadata": {},
   "outputs": [],
   "source": [
    "dftb_calculator = Dftb2(h_feed, s_feed, o_feed, u_feed, filling_scheme=None)"
   ]
  },
  {
   "cell_type": "markdown",
   "id": "8af4e07f-7335-4e0d-824e-ed4a92658e51",
   "metadata": {},
   "source": [
    "## 2. Data preparation"
   ]
  },
  {
   "cell_type": "code",
   "execution_count": 7,
   "id": "cc3800ec-cc7b-42c7-b6c4-10c533dc7ca3",
   "metadata": {},
   "outputs": [],
   "source": [
    "# Define a delegate to obtain predictions from the trained model\n",
    "def prediction_delegate(calculator, targets, **kwargs):\n",
    "     predictions = dict()\n",
    "     predictions[\"mulliken\"] = calculator.q_final_atomic\n",
    "     \n",
    "     return predictions"
   ]
  },
  {
   "cell_type": "code",
   "execution_count": 8,
   "id": "071b1565-6e22-429e-b341-404db8a281b1",
   "metadata": {},
   "outputs": [],
   "source": [
    "# Define a delegate to obtain reference results\n",
    "def reference_delegate(calculator, targets, **kwargs):\n",
    "     references = dict()\n",
    "     references[\"mulliken\"] = targets['q_final_atomic']\n",
    "\n",
    "     return references"
   ]
  },
  {
   "cell_type": "markdown",
   "id": "00c86651-bb66-400b-8658-2a599901f16d",
   "metadata": {},
   "source": [
    "## 3. Model training"
   ]
  },
  {
   "cell_type": "code",
   "execution_count": 9,
   "id": "5e4d3e50-5fe6-4b25-8f2b-9c6dcb6032b3",
   "metadata": {},
   "outputs": [],
   "source": [
    "# Define parameters to optimize\n",
    "h_var = [param for name, param in h_feed.named_parameters()]\n",
    "s_var = [param for name, param in s_feed.named_parameters()]\n",
    "variable = h_var + s_var"
   ]
  },
  {
   "cell_type": "code",
   "execution_count": 10,
   "id": "09978496-08fa-4a55-9e2a-e787b693b7be",
   "metadata": {},
   "outputs": [],
   "source": [
    "# Define the loss entity\n",
    "loss_entity = Loss(prediction_delegate, reference_delegate,\n",
    "                   loss_functions=loss_func, reduction='mean')"
   ]
  },
  {
   "cell_type": "code",
   "execution_count": 11,
   "id": "25021e29-92a2-4820-be51-8da5a2947564",
   "metadata": {},
   "outputs": [],
   "source": [
    "# Define optimizer\n",
    "optimizer = getattr(torch.optim, 'Adam')(params=variable, lr=lr)"
   ]
  },
  {
   "cell_type": "code",
   "execution_count": 12,
   "id": "dcf9ba2d-f76e-4e90-b85b-21114246c423",
   "metadata": {},
   "outputs": [
    {
     "name": "stdout",
     "output_type": "stream",
     "text": [
      "epoch 0\n",
      "loss: tensor(0.0009, grad_fn=<AddBackward0>)\n",
      "epoch 1\n",
      "loss: tensor(0.0003, grad_fn=<AddBackward0>)\n",
      "epoch 2\n",
      "loss: tensor(0.0001, grad_fn=<AddBackward0>)\n",
      "epoch 3\n",
      "loss: tensor(0.0002, grad_fn=<AddBackward0>)\n",
      "epoch 4\n",
      "loss: tensor(0.0002, grad_fn=<AddBackward0>)\n",
      "epoch 5\n",
      "loss: tensor(0.0001, grad_fn=<AddBackward0>)\n",
      "epoch 6\n",
      "loss: tensor(6.5845e-05, grad_fn=<AddBackward0>)\n",
      "epoch 7\n",
      "loss: tensor(5.5948e-05, grad_fn=<AddBackward0>)\n",
      "epoch 8\n",
      "loss: tensor(9.1647e-05, grad_fn=<AddBackward0>)\n",
      "epoch 9\n",
      "loss: tensor(0.0001, grad_fn=<AddBackward0>)\n"
     ]
    }
   ],
   "source": [
    "# Execution\n",
    "loss_list = []\n",
    "loss_list.append(0)\n",
    "for epoch in range(number_of_epochs):\n",
    "    _loss = 0\n",
    "    print('epoch', epoch)\n",
    "    dftb_calculator(geometry, orbs, grad_mode=\"direct\")\n",
    "    total_loss, raw_losses = loss_entity(dftb_calculator, targets)\n",
    "    _loss = _loss + total_loss\n",
    "    optimizer.zero_grad()\n",
    "    _loss.retain_grad()\n",
    "\n",
    "    # Invoke the autograd engine\n",
    "    _loss.backward(retain_graph=True)\n",
    "\n",
    "    # Update the model\n",
    "    optimizer.step()\n",
    "    print(\"loss:\", _loss)\n",
    "    loss_list.append(_loss.detach())"
   ]
  },
  {
   "cell_type": "code",
   "execution_count": 13,
   "id": "9d81ea0b-ca93-4b83-957a-fe09f42b0f02",
   "metadata": {},
   "outputs": [
    {
     "data": {
      "image/png": "[encoded data removed]",
      "text/plain": [
       "<Figure size 640x480 with 1 Axes>"
      ]
     },
     "metadata": {},
     "output_type": "display_data"
    }
   ],
   "source": [
    "# Plot the loss\n",
    "import matplotlib.pyplot as plt\n",
    "plt.plot(torch.linspace(1, number_of_epochs, number_of_epochs),\n",
    "         loss_list[1:])\n",
    "plt.xlabel(\"Iteration\")\n",
    "plt.ylabel(\"Loss\")\n",
    "plt.show()"
   ]
  },
  {
   "cell_type": "code",
   "execution_count": null,
   "id": "5454bcf2-92ed-4ce7-9335-83a333d9a381",
   "metadata": {},
   "outputs": [],
   "source": []
  }
 ],
 "metadata": {
  "kernelspec": {
   "display_name": "Python 3 (ipykernel)",
   "language": "python",
   "name": "python3"
  },
  "language_info": {
   "codemirror_mode": {
    "name": "ipython",
    "version": 3
   },
   "file_extension": ".py",
   "mimetype": "text/x-python",
   "name": "python",
   "nbconvert_exporter": "python",
   "pygments_lexer": "ipython3",
   "version": "3.12.3"
  }
 },
 "nbformat": 4,
 "nbformat_minor": 5
}
