{
 "cells": [
  {
   "cell_type": "markdown",
   "id": "1880a09e-8a5e-465e-af5a-190925376060",
   "metadata": {},
   "source": [
    "## Setup for TBMaLT examples"
   ]
  },
  {
   "cell_type": "code",
   "execution_count": null,
   "id": "f5f72841-4449-4f48-8ad9-a92e4e422cf0",
   "metadata": {},
   "outputs": [],
   "source": [
    "import os\n",
    "from os.path import exists, join\n",
    "import urllib, tempfile, tarfile, zipfile\n",
    "\n",
    "import torch\n",
    "\n",
    "from tbmalt.io.skf import Skf\n",
    "from tbmalt.tools.downloaders import download_dftb_parameter_set\n",
    "torch.set_default_dtype(torch.float64)"
   ]
  },
  {
   "cell_type": "markdown",
   "id": "7fd3085f-540a-460a-bbeb-5a57774e5b99",
   "metadata": {},
   "source": [
    "## Download auorg-1-1 parameter set"
   ]
  },
  {
   "cell_type": "code",
   "execution_count": null,
   "id": "5182a29a-aa22-4a9b-8d70-306bfbb4af3f",
   "metadata": {},
   "outputs": [],
   "source": [
    "# Link to the auorg-1-1 parameter set\n",
    "link = 'https://github.com/dftbparams/auorg/releases/download/v1.1.0/auorg-1-1.tar.xz'\n",
    "\n",
    "# Path of the parameter set\n",
    "try:\n",
    "    os.mkdir(\"./data\")\n",
    "except FileExistsError:\n",
    "    pass\n",
    "    \n",
    "parameter_db_path = \"./data/example_dftb_parameters.h5\"\n",
    "\n",
    "if not exists(parameter_db_path):\n",
    "    download_dftb_parameter_set(link, parameter_db_path)"
   ]
  },
  {
   "cell_type": "markdown",
   "id": "b1562ce0-346b-4a75-bb99-e752adb0d2aa",
   "metadata": {},
   "source": [
    "## Download data for dos and vcr training"
   ]
  },
  {
   "cell_type": "code",
   "execution_count": null,
   "id": "d3c705d4-dc92-4331-9a01-8c194e0390e4",
   "metadata": {},
   "outputs": [],
   "source": [
    "# Link to the dos training data\n",
    "link = 'https://zenodo.org/records/15592694/files/tbmalt_data.zip?download=1'\n",
    "\n",
    "# Path of the data\n",
    "output_file = \"./data/dos.zip\"\n",
    "\n",
    "# Download the data\n",
    "req = urllib.request.Request(link)\n",
    "with urllib.request.urlopen(req) as response, open(output_file, 'wb') as out_file:\n",
    "    out_file.write(response.read())\n",
    "\n",
    "# Extract the data\n",
    "with zipfile.ZipFile(output_file, 'r') as zip_ref:\n",
    "    zip_ref.extractall(\"./data/\")\n",
    "\n",
    "os.remove(output_file)"
   ]
  },
  {
   "cell_type": "code",
   "execution_count": null,
   "id": "bc6393b4-e60e-4827-87a2-209256272798",
   "metadata": {},
   "outputs": [],
   "source": []
  }
 ],
 "metadata": {
  "kernelspec": {
   "display_name": "Python 3 (ipykernel)",
   "language": "python",
   "name": "python3"
  },
  "language_info": {
   "codemirror_mode": {
    "name": "ipython",
    "version": 3
   },
   "file_extension": ".py",
   "mimetype": "text/x-python",
   "name": "python",
   "nbconvert_exporter": "python",
   "pygments_lexer": "ipython3",
   "version": "3.9.13"
  }
 },
 "nbformat": 4,
 "nbformat_minor": 5
}
